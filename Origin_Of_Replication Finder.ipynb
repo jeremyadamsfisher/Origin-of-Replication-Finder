{
 "cells": [
  {
   "cell_type": "markdown",
   "metadata": {},
   "source": [
    "# Origin of Replication Finder\n",
    "\n",
    "In bacterial genomes, minimums of the GC skew curve indicate the origin of replication. This notebook finds this location of a specified genome and runs a motif-finding algorithm to determine the likeliest binding site for replication proteins.\n",
    "\n",
    "This notebook is organized so that (II and III) functions are declared to make the final code (IV) extremely readable."
   ]
  },
  {
   "cell_type": "markdown",
   "metadata": {},
   "source": [
    "#### I. Settings"
   ]
  },
  {
   "cell_type": "code",
   "execution_count": 4,
   "metadata": {
    "collapsed": true
   },
   "outputs": [],
   "source": [
    "genome_file = None # Path to the genome; leave blank to download one automatically\n",
    "max_mismatches_allowed = 1\n",
    "window_length = 1000\n",
    "k_mer_length = 9\n",
    "\n",
    "if not genome_file: # If no genome is specified, the script will download an open-access genome file \n",
    "    from os import path, getcwd\n",
    "    import requests\n",
    "    genome_fp = path.join(getcwd(), 'ecoli_genome.fasta')\n",
    "    "
   ]
  },
  {
   "cell_type": "markdown",
   "metadata": {},
   "source": [
    "#### II. Import Statements and non-critical functions"
   ]
  },
  {
   "cell_type": "code",
   "execution_count": 2,
   "metadata": {
    "collapsed": true
   },
   "outputs": [],
   "source": [
    "import regex\n",
    "from pandas import DataFrame\n",
    "from collections import defaultdict\n",
    "\n",
    "class Subsequences:\n",
    "    '''\n",
    "    Subsequences is an iterator that iterates over all\n",
    "    possible polymers of a defined length within a sequence\n",
    "    '''\n",
    "    def __init__(self, _sequence, _kmer_length):\n",
    "        self.sequence = _sequence\n",
    "        self.k = _kmer_length\n",
    "        self.pos = 0\n",
    "\n",
    "    def __iter__(self):\n",
    "        return self\n",
    "\n",
    "    def __len__(self):\n",
    "        return len(self.sequence) - self.k + 1\n",
    "\n",
    "    def __getitem__(self, item):\n",
    "        return self.sequence[item:item+self.k]\n",
    "\n",
    "    def next(self):\n",
    "        if self.pos < len(self.sequence) - self.k:\n",
    "            self.pos += 1\n",
    "            return self.sequence[self.pos:self.pos+self.k]\n",
    "        else:\n",
    "            raise StopIteration\n",
    "            \n",
    "def flatten(l):\n",
    "    '''\n",
    "    Flatten a nestled list\n",
    "    '''\n",
    "    out = []\n",
    "    for item in l:\n",
    "        if isinstance(item, (list, tuple)):\n",
    "            out.extend(flatten(item))\n",
    "        else:\n",
    "            out.append(item)\n",
    "    return out"
   ]
  },
  {
   "cell_type": "markdown",
   "metadata": {},
   "source": [
    "#### IV. Critical Functions"
   ]
  },
  {
   "cell_type": "code",
   "execution_count": 3,
   "metadata": {
    "collapsed": true
   },
   "outputs": [],
   "source": [
    "def read_fasta(_genome_file):\n",
    "    return ''.join(line.strip().upper() for line in f if not line.startswith('>'))\n",
    "\n",
    "def minimum_skew_locations(_genome):\n",
    "    '''\n",
    "    Calculates the GC skew curve of the genome and returns\n",
    "    its absolute minimums\n",
    "    '''\n",
    "    \n",
    "    nucleotide_to_delta_skew = {'A': 0, 'C': -1, 'T': 0, 'G': 1, 'N': 0}\n",
    "    \n",
    "    df = DataFrame({'Delta_Skew': [nucleotide_to_delta_skew[n] for n in _genome]})\n",
    "    df['Skew'] = df['Delta_Skew'].cumsum()\n",
    "    minimum_skew = df['Skew'].min()\n",
    "    minimum_skew_locations = [int(l) for l in df[df['Skew'] == minimum_skew].index if df.loc[l]['Delta_Skew'] == '-1']\n",
    "    \n",
    "    return minimum_skew_locations\n",
    "\n",
    "def window_centered_around(_center, _window_length, _genome):\n",
    "    '''\n",
    "    Returns the polymer centered around a specified point, of a\n",
    "    specified length, within the given genome\n",
    "    '''\n",
    "    \n",
    "    return _genome[int(_center - _window_length / 2):int(_center + (_window_length / 2))]\n",
    "\n",
    "def most_frequent_kmers(_sequence, _k_mer_length, _max_mismatches):\n",
    "    '''\n",
    "    Returns the kmers with the greatest number of hits and the\n",
    "    number of those hits\n",
    "    '''\n",
    "    \n",
    "    def sequence_neighborhood(pattern, max_mismatches_allowed):\n",
    "        '''\n",
    "        Returns a 'neighborhood' of sequences where there are a defined\n",
    "        number of mismatches with the seed sequence\n",
    "        '''\n",
    "    \n",
    "        substitutes = {'A': ['C', 'T', 'G'],\n",
    "                       'T': ['A', 'C', 'G'],\n",
    "                       'G': ['A', 'T', 'C'],\n",
    "                       'C': ['A', 'T', 'G'],\n",
    "                       'N': ['C', 'A', 'T', 'G']}\n",
    "    \n",
    "        def sequences_with_one_mismatch(pattern):\n",
    "\n",
    "            sequences = set([pattern])\n",
    "\n",
    "            for i, nucleotide in enumerate(pattern):\n",
    "                for substitute_nucleotide in substitutes[nucleotide]:\n",
    "                    new_neighbor = pattern[:i] + substitute_nucleotide + pattern[i + 1:]\n",
    "                    sequences.add(new_neighbor)\n",
    "\n",
    "            return list(sequences)\n",
    "\n",
    "        neighborhood = set([pattern])\n",
    "\n",
    "        for i in range(max_mismatches_allowed):\n",
    "            new_neighbors = [sequences_with_one_mismatch(neighbor) for neighbor in neighborhood]\n",
    "            neighborhood.update(flatten(new_neighbors))\n",
    "\n",
    "        return neighborhood\n",
    "        \n",
    "    def num_approx_matches(_in_sequence, _of_kmer, max_mismatches_allowed):\n",
    "        '''\n",
    "        Compares two sequence and returns the number of times there is an\n",
    "        aproximate match, defined by having at most a defined number of\n",
    "        mismatches\n",
    "        '''\n",
    "        search_expression = '(%s){s<=%s}' % (_of_kmer, max_mismatches_allowed)\n",
    "        occurrences = regex.findall(search_expression, _in_sequence)\n",
    "        return len(occurrences)\n",
    "        \n",
    "    possible_kmers = set([])\n",
    "\n",
    "    for sequence in Subsequences(_sequence, _k_mer_length):\n",
    "        possible_kmers.update(sequence_neighborhood(sequence, _max_mismatches))\n",
    "\n",
    "    k_mer_hits = defaultdict(list)\n",
    "    \n",
    "    for kmer in possible_kmers:\n",
    "        forward_hits = num_approx_matches(_sequence, kmer, _max_mismatches)\n",
    "        reverse_complement_hits = num_approx_matches(_sequence, reverse_complement(kmer), _max_mismatches)\n",
    "        k_mer_hits[forward_hits + reverse_complement_hits].append(kmer)\n",
    "        \n",
    "    number_of_top_hits = max(k_mer_hits.keys())\n",
    "    top_hits = k_mer_hits[number_of_top_hits]\n",
    "    \n",
    "    return number_of_top_hits, top_hits\n",
    "\n",
    "def reverse_complement(sequence):\n",
    "    '''\n",
    "    Returns the reverse complement of the sequence\n",
    "    '''\n",
    "    complement = {'C': 'G', 'G': 'C', 'T': 'A', 'A': 'T', 'N': 'N'}\n",
    "    try:\n",
    "        return ''.join(complement[bp] for bp in reversed(sequence))\n",
    "    except KeyError:\n",
    "        raise Exception('Attempted to find the complement of a base pair that is not A, C, G, T or N.')"
   ]
  },
  {
   "cell_type": "markdown",
   "metadata": {},
   "source": [
    "#### IV. Main functionality"
   ]
  },
  {
   "cell_type": "code",
   "execution_count": 5,
   "metadata": {},
   "outputs": [
    {
     "ename": "NameError",
     "evalue": "name 'genome_file' is not defined",
     "output_type": "error",
     "traceback": [
      "\u001b[0;31m---------------------------------------------------------------------------\u001b[0m",
      "\u001b[0;31mNameError\u001b[0m                                 Traceback (most recent call last)",
      "\u001b[0;32m<ipython-input-5-fb3f079de111>\u001b[0m in \u001b[0;36m<module>\u001b[0;34m()\u001b[0m\n\u001b[0;32m----> 1\u001b[0;31m \u001b[0;32mwith\u001b[0m \u001b[0mopen\u001b[0m\u001b[0;34m(\u001b[0m\u001b[0mgenome_file\u001b[0m\u001b[0;34m,\u001b[0m \u001b[0;34m'r'\u001b[0m\u001b[0;34m)\u001b[0m \u001b[0;32mas\u001b[0m \u001b[0mf\u001b[0m\u001b[0;34m:\u001b[0m\u001b[0;34m\u001b[0m\u001b[0m\n\u001b[0m\u001b[1;32m      2\u001b[0m     \u001b[0;31m# Read genome as a FASTA file\u001b[0m\u001b[0;34m\u001b[0m\u001b[0;34m\u001b[0m\u001b[0m\n\u001b[1;32m      3\u001b[0m     \u001b[0mgenome\u001b[0m \u001b[0;34m=\u001b[0m \u001b[0mread_fasta\u001b[0m\u001b[0;34m(\u001b[0m\u001b[0mf\u001b[0m\u001b[0;34m)\u001b[0m\u001b[0;34m\u001b[0m\u001b[0m\n\u001b[1;32m      4\u001b[0m \u001b[0;34m\u001b[0m\u001b[0m\n\u001b[1;32m      5\u001b[0m     \u001b[0;31m# Calculate the absolute minimum skew locations\u001b[0m\u001b[0;34m\u001b[0m\u001b[0;34m\u001b[0m\u001b[0m\n",
      "\u001b[0;31mNameError\u001b[0m: name 'genome_file' is not defined"
     ]
    }
   ],
   "source": [
    "with open(genome_file, 'r') as f:\n",
    "    # Read genome as a FASTA file\n",
    "    genome = read_fasta(f)\n",
    "\n",
    "    # Calculate the absolute minimum skew locations\n",
    "    for min_skew_loc in minimum_skew_locations(genome):\n",
    "\n",
    "        # Search for the polymers with the greatest number of (aproximate) matches\n",
    "        # within a window centered around this minimum skew location\n",
    "        window = window_centered_around(min_skew_loc, window_length, genome)\n",
    "        number_of_top_hits, top_hits = most_frequent_kmers(window, k_mer_length, max_mismatches_allowed)\n",
    "\n",
    "        # Print the number of hits and the relevant polymer to the console\n",
    "        if(number_of_top_hits > 0):\n",
    "            print('Found the following polymers centered around {} bp:'.format(min_skew_loc))\n",
    "            for hit in top_hits:\n",
    "                print('\\t* {} [{} hits]'.format(hit, number_of_top_hits))"
   ]
  },
  {
   "cell_type": "markdown",
   "metadata": {},
   "source": [
    "#### V. Bonus: Plot GC-Skew Curve"
   ]
  },
  {
   "cell_type": "code",
   "execution_count": null,
   "metadata": {
    "collapsed": true
   },
   "outputs": [],
   "source": []
  }
 ],
 "metadata": {
  "kernelspec": {
   "display_name": "Python 2",
   "language": "python",
   "name": "python2"
  },
  "language_info": {
   "codemirror_mode": {
    "name": "ipython",
    "version": 2
   },
   "file_extension": ".py",
   "mimetype": "text/x-python",
   "name": "python",
   "nbconvert_exporter": "python",
   "pygments_lexer": "ipython2",
   "version": "2.7.13"
  }
 },
 "nbformat": 4,
 "nbformat_minor": 2
}
