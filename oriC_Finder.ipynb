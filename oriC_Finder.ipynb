{
 "cells": [
  {
   "cell_type": "markdown",
   "metadata": {},
   "source": [
    "\n",
    "# Origin of Replication Finder\n",
    "\n",
    "## A Bioinformatic Algorithm to Find the Origin of Replication on Bacterial Genomes\n",
    "\n",
    "Because of the molecular mechanics of bacterial division, [GC-skew](gc skew) reaches a minimum around the origin of replication. This algorithm scans for consensus sequences around this region."
   ]
  },
  {
   "cell_type": "markdown",
   "metadata": {},
   "source": [
    "#### Settings"
   ]
  },
  {
   "cell_type": "code",
   "execution_count": 1,
   "metadata": {
    "collapsed": true
   },
   "outputs": [],
   "source": [
    "window_length = 1000\n",
    "k_mer_length = 9\n",
    "max_mismatches_allowed = 1"
   ]
  },
  {
   "cell_type": "markdown",
   "metadata": {},
   "source": [
    "#### Import dependencies and declare constants"
   ]
  },
  {
   "cell_type": "code",
   "execution_count": 2,
   "metadata": {},
   "outputs": [],
   "source": [
    "import regex\n",
    "from pandas import DataFrame\n",
    "from collections import defaultdict\n",
    "from os.path import isfile\n",
    "from urllib.request import urlretrieve\n",
    "from helpers import *\n",
    "%matplotlib inline\n",
    "\n",
    "nucleotide_to_delta_skew = {'A': 0, 'C': -1, 'T': 0, 'G': 1, 'N': 0}"
   ]
  },
  {
   "cell_type": "markdown",
   "metadata": {},
   "source": [
    "#### Read genome and calculate the GC skew curve"
   ]
  },
  {
   "cell_type": "code",
   "execution_count": 3,
   "metadata": {},
   "outputs": [],
   "source": [
    "genome_fp = 'E_coli_genome.fas'\n",
    "\n",
    "if not isfile(genome_fp):\n",
    "    urlretrieve('https://www.genome.wisc.edu/pub/sequence/U00096.2.fas', genome_fp)\n",
    "\n",
    "with open(genome_fp, 'r') as f:\n",
    "    # Load genome as FASTA file\n",
    "    genome = ''.join(line.strip().upper() for line in f if not line.startswith('>'))\n",
    "df = DataFrame({'Delta_Skew': [nucleotide_to_delta_skew[n] for n in genome]})\n",
    "df['Skew'] = df['Delta_Skew'].cumsum()"
   ]
  },
  {
   "cell_type": "code",
   "execution_count": 4,
   "metadata": {},
   "outputs": [
    {
     "data": {
      "text/plain": [
       "<matplotlib.axes._subplots.AxesSubplot at 0x10a6478d0>"
      ]
     },
     "execution_count": 4,
     "metadata": {},
     "output_type": "execute_result"
    },
    {
     "data": {
      "image/png": "[encoded data removed]",
      "text/plain": [
       "<matplotlib.figure.Figure at 0x10848f780>"
      ]
     },
     "metadata": {},
     "output_type": "display_data"
    }
   ],
   "source": [
    "df['Skew'].plot()"
   ]
  },
  {
   "cell_type": "markdown",
   "metadata": {},
   "source": [
    "There is a clear GC skew minimum.\n",
    "\n",
    "#### Calculate the precise minimum"
   ]
  },
  {
   "cell_type": "code",
   "execution_count": 5,
   "metadata": {
    "collapsed": true
   },
   "outputs": [],
   "source": [
    "minimum_skew = df['Skew'].min()\n",
    "minimum_skew_locations = [int(l) for l in df[df['Skew'] == minimum_skew].index \\\n",
    "                          if df.loc[l]['Delta_Skew'] == -1]"
   ]
  },
  {
   "cell_type": "markdown",
   "metadata": {},
   "source": [
    "Now that we know where in the genome to took, we need two more functions to find k-mers with the greatest number of aproximate matches.\n",
    "1. To return a subset or 'window' of the genome around the GC skew minimum\n",
    "1. Scan for the most frequent kmers in this window"
   ]
  },
  {
   "cell_type": "code",
   "execution_count": 6,
   "metadata": {
    "collapsed": true
   },
   "outputs": [],
   "source": [
    "def window_centered_around(_center, _window_length, _genome):    \n",
    "    return _genome[int(_center - _window_length / 2):int(_center + (_window_length / 2))]\n",
    "\n",
    "def most_frequent_kmers(_sequence, _k_mer_length, _max_mismatches):\n",
    "    '''\n",
    "    Returns the kmers with the greatest number of hits and the\n",
    "    number of those hits\n",
    "    '''\n",
    "    \n",
    "    def sequence_neighborhood(pattern, max_mismatches_allowed):\n",
    "        '''\n",
    "        Returns a 'neighborhood' of sequences where there are a defined\n",
    "        number of mismatches with the seed sequence\n",
    "        '''\n",
    "    \n",
    "        substitutes = {'A': ['C', 'T', 'G'],\n",
    "                       'T': ['A', 'C', 'G'],\n",
    "                       'G': ['A', 'T', 'C'],\n",
    "                       'C': ['A', 'T', 'G'],\n",
    "                       'N': ['C', 'A', 'T', 'G']}\n",
    "    \n",
    "        def sequences_with_one_mismatch(pattern):\n",
    "\n",
    "            sequences = set([pattern])\n",
    "\n",
    "            for i, nucleotide in enumerate(pattern):\n",
    "                for substitute_nucleotide in substitutes[nucleotide]:\n",
    "                    new_neighbor = pattern[:i] + substitute_nucleotide + pattern[i + 1:]\n",
    "                    sequences.add(new_neighbor)\n",
    "\n",
    "            return list(sequences)\n",
    "\n",
    "        neighborhood = set([pattern])\n",
    "\n",
    "        for i in range(max_mismatches_allowed):\n",
    "            new_neighbors = [sequences_with_one_mismatch(neighbor) for neighbor in neighborhood]\n",
    "            neighborhood.update(flatten(new_neighbors))\n",
    "\n",
    "        return neighborhood\n",
    "        \n",
    "    def num_approx_matches(_in_sequence, _of_kmer, max_mismatches_allowed):\n",
    "        '''\n",
    "        Compares two sequence and returns the number of times there is an\n",
    "        aproximate match, defined by having at most a defined number of\n",
    "        mismatches\n",
    "        '''\n",
    "        search_expression = '(%s){s<=%s}' % (_of_kmer, max_mismatches_allowed)\n",
    "        occurrences = regex.findall(search_expression, _in_sequence)\n",
    "        return len(occurrences)\n",
    "        \n",
    "    possible_kmers = set([])\n",
    "\n",
    "    for sequence in Subsequences(_sequence, _k_mer_length):\n",
    "        possible_kmers.update(sequence_neighborhood(sequence, _max_mismatches))\n",
    "\n",
    "    k_mer_hits = defaultdict(list)\n",
    "    \n",
    "    for kmer in possible_kmers:\n",
    "        forward_hits = num_approx_matches(_sequence, kmer, _max_mismatches)\n",
    "        reverse_complement_hits = num_approx_matches(_sequence, reverse_complement(kmer), _max_mismatches)\n",
    "        k_mer_hits[forward_hits + reverse_complement_hits].append(kmer)\n",
    "        \n",
    "    number_of_top_hits = max(k_mer_hits.keys())\n",
    "    top_hits = k_mer_hits[number_of_top_hits]\n",
    "    \n",
    "    return number_of_top_hits, top_hits"
   ]
  },
  {
   "cell_type": "markdown",
   "metadata": {},
   "source": [
    "With these functions defined, we may iterate over the windows centered around these GC skew minimums and search for aproximate matches. The k-mer with the most matches in likely the origin of replication."
   ]
  },
  {
   "cell_type": "code",
   "execution_count": 7,
   "metadata": {},
   "outputs": [
    {
     "name": "stdout",
     "output_type": "stream",
     "text": [
      "Found the following polymers centered around 3923619 bp:\n",
      "\t* GATCAACAG [7 hits]\n",
      "\t* CTGTTGATC [7 hits]\n"
     ]
    }
   ],
   "source": [
    "for min_skew_loc in minimum_skew_locations:\n",
    "    window = window_centered_around(min_skew_loc, window_length, genome)\n",
    "    number_of_top_hits, top_hits = most_frequent_kmers(window, k_mer_length, max_mismatches_allowed)\n",
    "    \n",
    "    if(number_of_top_hits > 0):\n",
    "        print('Found the following polymers centered around {} bp:'.format(min_skew_loc))\n",
    "        for hit in top_hits:\n",
    "            print('\\t* {} [{} hits]'.format(hit, number_of_top_hits))\n",
    "    else:\n",
    "        print('Found nothing.')"
   ]
  },
  {
   "cell_type": "markdown",
   "metadata": {},
   "source": [
    "Indeed, if the sample genome was used, this is the origin of replication for _E. coli._"
   ]
  }
 ],
 "metadata": {
  "kernelspec": {
   "display_name": "Python [conda env:prflr]",
   "language": "python",
   "name": "conda-env-prflr-py"
  },
  "language_info": {
   "codemirror_mode": {
    "name": "ipython",
    "version": 3
   },
   "file_extension": ".py",
   "mimetype": "text/x-python",
   "name": "python",
   "nbconvert_exporter": "python",
   "pygments_lexer": "ipython3",
   "version": "3.6.3"
  }
 },
 "nbformat": 4,
 "nbformat_minor": 2
}
