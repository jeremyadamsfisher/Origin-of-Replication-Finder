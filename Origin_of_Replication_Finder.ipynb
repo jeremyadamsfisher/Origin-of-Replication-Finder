{
 "cells": [
  {
   "cell_type": "markdown",
   "metadata": {},
   "source": [
    "# Introduction\n",
    "\n",
    "This is a bioinformatic algorithm to prefict the origin of replication of circular genomes. It is based on the lectures by [Prof. Pavel Pevzner](https://www.coursera.org/learn/bioinformatics).\n",
    "\n",
    "[GC-skew](https://en.wikipedia.org/wiki/GC_skew) reaches a minimum around the origin of replication (although the evolutionary mechanisms underlying this is [disputed](https://www.ncbi.nlm.nih.gov/pubmed/17646257)). We leverge this as an estimate of the location of the oriC (origin of replication). About this, we scan for motifs which are, in fact, are DnaA monomers, [which specify the helicase binding site](https://www.ncbi.nlm.nih.gov/pubmed/11316803). To do so, we search for a the __consesus sequence__ to these DNA monomers; the highest concentration of these sequences similar to this consesus sequence is likely to be the oriC. We will see, this approach yields a consensus sequence with seven hits, three of which are directly in the 312 bp region formally defined as the oriC.\n",
    "\n",
    "It should be noted, __consesus sequences__ are not necessarily present in the genome. Rather, they represent a sequence with which the greatest number of k-mers (i.e. k-length DNA polymers) have the smallest [hamming distance](https://en.wikipedia.org/wiki/Hamming_distance). The reader is likely more familiar with a sequence logo:\n",
    "\n",
    "![Imgur](https://i.imgur.com/BahU1P8.png)\n",
    "\n",
    "This algorithm does not calculate the logo. It does, however, capture the same sequence that can be read by taking the top base pair from each position in the logo. For example, from the sequence represented in the above logo, our algorithm would capture ````TTTCGCAAT````.\n",
    "\n",
    "To simply the problem, we focus on a small set of computational challenges. Namely:\n",
    "* How to calculate the GC-skew curve and determine its global mimima\n",
    "* How to determine the best consensus sequence for motifs around this minimum.\n",
    "This method is frequently used to predict the oriC.\n",
    "\n",
    "This leaves out a number of other issues, such as:\n",
    "* How to determine how large a window to scan for consensus sequences around the oriC\n",
    "* How to determine the length of the oriC\n",
    "* How to determine how many mismatches (mutations) are allowed before two sequences are considered distinct\n",
    "\n",
    "These issues, we leave as parameters for the researcher to tweak. The goal, of course, is attempt to recapitulate experimentall validated results."
   ]
  },
  {
   "cell_type": "markdown",
   "metadata": {},
   "source": [
    "# Settings and import dependencies"
   ]
  },
  {
   "cell_type": "code",
   "execution_count": 1,
   "metadata": {},
   "outputs": [],
   "source": [
    "window_length = 1000\n",
    "k_mer_length = 9\n",
    "max_mismatches_allowed = 1\n",
    "genome_fp = 'E_coli_genome.fas'\n",
    "\n",
    "import regex\n",
    "from pandas import DataFrame\n",
    "from collections import defaultdict\n",
    "from os.path import isfile\n",
    "from urllib.request import urlretrieve\n",
    "%matplotlib inline"
   ]
  },
  {
   "cell_type": "markdown",
   "metadata": {},
   "source": [
    "# Declare helper functions\n",
    "\n",
    "There are a few functions and mappings that we will need, but are peripheral to our main goal: determining a consensus sequence for the oriC.\n",
    "\n",
    "We  define them here, but do not discuss them at length. The reader should feel free to skip them."
   ]
  },
  {
   "cell_type": "code",
   "execution_count": 2,
   "metadata": {},
   "outputs": [],
   "source": [
    "def flatten(l):\n",
    "    '''\n",
    "    Flatten a nestled list\n",
    "    '''\n",
    "    out = []\n",
    "    for item in l:\n",
    "        if isinstance(item, (list, tuple)):\n",
    "            out.extend(flatten(item))\n",
    "        else:\n",
    "            out.append(item)\n",
    "    return out\n",
    "\n",
    "\n",
    "def reverse_complement(sequence):\n",
    "    '''\n",
    "    Returns the reverse complement of the sequence\n",
    "    '''\n",
    "    complement = {'C': 'G',\n",
    "                  'G': 'C',\n",
    "                  'T': 'A',\n",
    "                  'A': 'T',\n",
    "                  'N': 'N'}\n",
    "    try:\n",
    "        return ''.join(complement[bp] for bp in reversed(sequence))\n",
    "    except KeyError:\n",
    "        raise Exception('Attempted to find the complement of a base pair that is not A, C, G, T or N.')\n",
    "        \n",
    "class Subsequences:\n",
    "    '''\n",
    "    Subsequences is an iterator that iterates over all\n",
    "    possible polymers of a defined length within a sequence\n",
    "    '''\n",
    "    def __init__(self, _sequence, _kmer_length):\n",
    "        self.sequence = _sequence\n",
    "        self.k = _kmer_length\n",
    "        self.pos = 0\n",
    "\n",
    "    def __iter__(self):\n",
    "        return self\n",
    "\n",
    "    def __len__(self):\n",
    "        return len(self.sequence) - self.k + 1\n",
    "\n",
    "    def __getitem__(self, item):\n",
    "        return self.sequence[item:item+self.k]\n",
    "\n",
    "    def __next__(self):\n",
    "        if self.pos < len(self.sequence) - self.k:\n",
    "            self.pos += 1\n",
    "            return self.sequence[self.pos:self.pos+self.k]\n",
    "        else:\n",
    "            raise StopIteration"
   ]
  },
  {
   "cell_type": "markdown",
   "metadata": {},
   "source": [
    "# Read genome, calculate the GC skew curve and plot it"
   ]
  },
  {
   "cell_type": "code",
   "execution_count": 3,
   "metadata": {},
   "outputs": [
    {
     "data": {
      "text/html": [
       "<div>\n",
       "<style scoped>\n",
       "    .dataframe tbody tr th:only-of-type {\n",
       "        vertical-align: middle;\n",
       "    }\n",
       "\n",
       "    .dataframe tbody tr th {\n",
       "        vertical-align: top;\n",
       "    }\n",
       "\n",
       "    .dataframe thead th {\n",
       "        text-align: right;\n",
       "    }\n",
       "</style>\n",
       "<table border=\"1\" class=\"dataframe\">\n",
       "  <thead>\n",
       "    <tr style=\"text-align: right;\">\n",
       "      <th></th>\n",
       "      <th>Nucleotide</th>\n",
       "      <th>Delta_Skew</th>\n",
       "      <th>Skew</th>\n",
       "    </tr>\n",
       "  </thead>\n",
       "  <tbody>\n",
       "    <tr>\n",
       "      <th>0</th>\n",
       "      <td>A</td>\n",
       "      <td>0</td>\n",
       "      <td>0</td>\n",
       "    </tr>\n",
       "    <tr>\n",
       "      <th>1</th>\n",
       "      <td>G</td>\n",
       "      <td>1</td>\n",
       "      <td>1</td>\n",
       "    </tr>\n",
       "    <tr>\n",
       "      <th>2</th>\n",
       "      <td>C</td>\n",
       "      <td>-1</td>\n",
       "      <td>0</td>\n",
       "    </tr>\n",
       "    <tr>\n",
       "      <th>3</th>\n",
       "      <td>T</td>\n",
       "      <td>0</td>\n",
       "      <td>0</td>\n",
       "    </tr>\n",
       "    <tr>\n",
       "      <th>4</th>\n",
       "      <td>T</td>\n",
       "      <td>0</td>\n",
       "      <td>0</td>\n",
       "    </tr>\n",
       "    <tr>\n",
       "      <th>5</th>\n",
       "      <td>T</td>\n",
       "      <td>0</td>\n",
       "      <td>0</td>\n",
       "    </tr>\n",
       "    <tr>\n",
       "      <th>6</th>\n",
       "      <td>T</td>\n",
       "      <td>0</td>\n",
       "      <td>0</td>\n",
       "    </tr>\n",
       "    <tr>\n",
       "      <th>7</th>\n",
       "      <td>C</td>\n",
       "      <td>-1</td>\n",
       "      <td>-1</td>\n",
       "    </tr>\n",
       "    <tr>\n",
       "      <th>8</th>\n",
       "      <td>A</td>\n",
       "      <td>0</td>\n",
       "      <td>-1</td>\n",
       "    </tr>\n",
       "    <tr>\n",
       "      <th>9</th>\n",
       "      <td>T</td>\n",
       "      <td>0</td>\n",
       "      <td>-1</td>\n",
       "    </tr>\n",
       "  </tbody>\n",
       "</table>\n",
       "</div>"
      ],
      "text/plain": [
       "  Nucleotide  Delta_Skew  Skew\n",
       "0          A           0     0\n",
       "1          G           1     1\n",
       "2          C          -1     0\n",
       "3          T           0     0\n",
       "4          T           0     0\n",
       "5          T           0     0\n",
       "6          T           0     0\n",
       "7          C          -1    -1\n",
       "8          A           0    -1\n",
       "9          T           0    -1"
      ]
     },
     "execution_count": 3,
     "metadata": {},
     "output_type": "execute_result"
    }
   ],
   "source": [
    "if not isfile(genome_fp):\n",
    "    urlretrieve('https://www.genome.wisc.edu/pub/sequence/U00096.2.fas', genome_fp)\n",
    "\n",
    "with open(genome_fp, 'r') as f:\n",
    "    # Load genome as FASTA file\n",
    "    genome = ''.join(line.strip().upper() for line in f if not line.startswith('>'))\n",
    "\n",
    "df = DataFrame({'Nucleotide': list(genome)})\n",
    "nucleotide_to_delta_skew = {'A': 0,\n",
    "                        'C': -1,\n",
    "                        'T': 0,\n",
    "                        'G': 1,\n",
    "                        'N': 0}\n",
    "df['Delta_Skew'] = df.Nucleotide.apply(lambda n: nucleotide_to_delta_skew[n])\n",
    "df['Skew'] = df['Delta_Skew'].cumsum()\n",
    "df.head(10)"
   ]
  },
  {
   "cell_type": "code",
   "execution_count": 4,
   "metadata": {},
   "outputs": [
    {
     "data": {
      "text/plain": [
       "Text(0,0.5,'Skew')"
      ]
     },
     "execution_count": 4,
     "metadata": {},
     "output_type": "execute_result"
    },
    {
     "data": {
      "image/png": "[encoded data removed]",
      "text/plain": [
       "<matplotlib.figure.Figure at 0x116e32e10>"
      ]
     },
     "metadata": {},
     "output_type": "display_data"
    }
   ],
   "source": [
    "ax = df['Skew'].plot()\n",
    "ax.set_xlabel(\"Genome Location (Arbitrary)\")\n",
    "ax.set_ylabel(\"Skew\")"
   ]
  },
  {
   "cell_type": "markdown",
   "metadata": {},
   "source": [
    "There is a clear GC skew minimum.\n",
    "\n",
    "# Calculate the precise minimum\n",
    "\n",
    "This is simple in Pandas:"
   ]
  },
  {
   "cell_type": "code",
   "execution_count": 5,
   "metadata": {},
   "outputs": [],
   "source": [
    "minimum_skew = df['Skew'].min()\n",
    "minimum_skew_locations = [int(l) for l in df[df['Skew'] == minimum_skew].index \\\n",
    "                          if df.loc[l]['Delta_Skew'] == -1]"
   ]
  },
  {
   "cell_type": "markdown",
   "metadata": {},
   "source": [
    "Now that we know where in the genome to took, we need three more functions.\n",
    "1. To return a subset or 'window' of the genome around the GC skew minimum\n",
    "1. Find all k-mers and sequences that are closely related (by an arbitrary number of mutations) to these k-mers, which we call in its totality the \"sequence neighborhood\"\n",
    "1. Scan for the most frequent sequence in this \"sequence neighborhood\" within this window\n",
    "\n",
    "### Return a subset centered around the GC skew minimum\n",
    "For (1), this is a simple splice:"
   ]
  },
  {
   "cell_type": "code",
   "execution_count": 6,
   "metadata": {},
   "outputs": [],
   "source": [
    "def window_centered_around(_center, _window_length, _genome):    \n",
    "    return _genome[int(_center - _window_length / 2):int(_center + (_window_length / 2))]"
   ]
  },
  {
   "cell_type": "markdown",
   "metadata": {},
   "source": [
    "### Generate the sequence neighborhood\n",
    "\n",
    "For (2), this is somewhat more complicated. We'll handle this recursively, starting with the base case. Here, we take a single sequence. We iterate over each nucleotide in this sequence, substituting it with all other nucleotides, and adding the result to a set. (The set data structure automatically filters out duplicates.)"
   ]
  },
  {
   "cell_type": "code",
   "execution_count": 7,
   "metadata": {},
   "outputs": [],
   "source": [
    "substitutes = {'A': ['C', 'T', 'G'],\n",
    "               'T': ['A', 'C', 'G'],\n",
    "               'G': ['A', 'T', 'C'],\n",
    "               'C': ['A', 'T', 'G'],\n",
    "               'N': ['C', 'A', 'T', 'G']}\n",
    "\n",
    "def sequences_with_one_mismatch(base_sequence):\n",
    "    '''\n",
    "    Returns all sequences that could occur with one point mutation of the given base sequence\n",
    "    '''\n",
    "    sequences = [base_sequence]\n",
    "\n",
    "    for i, nucleotide in enumerate(base_sequence):\n",
    "        for substitute_nucleotide in substitutes[nucleotide]:\n",
    "            new_neighbor = base_sequence[:i] + substitute_nucleotide + base_sequence[i + 1:]\n",
    "            sequences.append(new_neighbor)\n",
    "\n",
    "    return sequences"
   ]
  },
  {
   "cell_type": "markdown",
   "metadata": {},
   "source": [
    "With this base case implemented, we now must create a function to apply it an arbitrary number of times to generate the full sequence neighborhood."
   ]
  },
  {
   "cell_type": "code",
   "execution_count": 8,
   "metadata": {},
   "outputs": [],
   "source": [
    "def sequence_neighborhood(base_sequence, max_mismatches_allowed):\n",
    "    '''\n",
    "    Returns a 'neighborhood' of sequences where there are a defined\n",
    "    number of mismatches with the seed sequence\n",
    "    '''\n",
    "\n",
    "    neighborhood = {base_sequence} # We filter out redundant sequences by using a set as the data structure\n",
    "\n",
    "    for i in range(max_mismatches_allowed):\n",
    "        new_neighbors = [sequences_with_one_mismatch(neighbor) for neighbor in neighborhood]\n",
    "        neighborhood.update(flatten(new_neighbors))\n",
    "\n",
    "    return list(neighborhood)"
   ]
  },
  {
   "cell_type": "markdown",
   "metadata": {},
   "source": [
    "### Scan for the most frequent K-mers\n",
    "\n",
    "At this point, we have all kmers and related sequences that _could_ form a consensus sequence. Now, we need to find which of these occurs the most.\n",
    "\n",
    "Note, we define 'occur' here as having at most an arbitrary number of mismatches with a k-mer actually present in the genome. Thus, we need a function to count the number of approximate matches between two sequences."
   ]
  },
  {
   "cell_type": "code",
   "execution_count": 9,
   "metadata": {},
   "outputs": [],
   "source": [
    "def num_approx_matches(_in_sequence, _of_kmer, max_mismatches_allowed):\n",
    "    '''\n",
    "    Compares two sequence and returns the number of times there is an\n",
    "    aproximate match, defined by having at most a defined number of\n",
    "    mismatches\n",
    "    '''\n",
    "    search_expression = '(%s){s<=%s}' % (_of_kmer, max_mismatches_allowed)\n",
    "    occurrences = regex.findall(search_expression, _in_sequence)\n",
    "    return len(occurrences)"
   ]
  },
  {
   "cell_type": "markdown",
   "metadata": {},
   "source": [
    "Finally, we pull these functions together."
   ]
  },
  {
   "cell_type": "code",
   "execution_count": 10,
   "metadata": {},
   "outputs": [],
   "source": [
    "def most_frequent_kmers(_sequence, _k_mer_length, _max_mismatches):\n",
    "    '''\n",
    "    Returns the kmers with the greatest number of hits and the\n",
    "    number of those hits\n",
    "    '''\n",
    "        \n",
    "    possible_kmers = set()\n",
    "\n",
    "    for sequence in Subsequences(_sequence, _k_mer_length):\n",
    "        possible_kmers.update(sequence_neighborhood(sequence, _max_mismatches))\n",
    "\n",
    "    k_mer_hits = defaultdict(list)\n",
    "    \n",
    "    for kmer in possible_kmers:\n",
    "        forward_hits = num_approx_matches(_sequence, kmer, _max_mismatches)\n",
    "        reverse_complement_hits = num_approx_matches(_sequence, reverse_complement(kmer), _max_mismatches)\n",
    "        k_mer_hits[forward_hits + reverse_complement_hits].append(kmer)\n",
    "        \n",
    "    number_of_top_hits = max(k_mer_hits.keys())\n",
    "    top_hits = k_mer_hits[number_of_top_hits]\n",
    "    \n",
    "    return number_of_top_hits, top_hits"
   ]
  },
  {
   "cell_type": "markdown",
   "metadata": {},
   "source": [
    "With these functions defined, we may iterate over the windows centered around these GC skew minimums and search for aproximate matches. The k-mer with the most matches likely indicates the region of the origin of replication."
   ]
  },
  {
   "cell_type": "code",
   "execution_count": 11,
   "metadata": {},
   "outputs": [
    {
     "name": "stdout",
     "output_type": "stream",
     "text": [
      "Searched the following window centered around 3923619 bp:\n",
      "\n",
      "CGGCGGATCACCAGCACGGCCACCGCTGTAATTATCCAGACCGATATGAATTTTACCGTCGAGGAACGTCCCAACGGTGAGCACGACGGCTTTGGCACGGAACTTCAGTCCCATTTGGGTAACAGCACCGACCACGCGATCGTTTTCGACAATAAGATCTTCAACCGCCTGCTGGAAGATCATCAGGTTCGGTTGGTTCTCCAGCGCCGTACGTACCGCCTGACGGTAGAGCACACGATCCGCCTGAGCTCGGGTAGCGCGAACCGCCGGTCCTTTGCTTGCGTTTAGTATCCTAAACTGGATACCCGCCTGATCGATCGCTTTCGCCATCAGACCGCCGAGTGCATCCACTTCTTTTACCAGATGTCCCTTCCCAATACCGCCGATCGCCGGGTTGCAGCTCATCTGCCCCAGAGTGTCGATATTGTGTGTCAAAAGCAGAGTCTGTTGACCCATACGCGCCGCGGCCATCGCGGCCTCGGTGCCTGCATGACCCCCGCCAATGATGATGACGTCAAAAGGATCCGGATAAAACATGGTGATTGCCTCGCATAACGCGGTATGAAAATGGATTGAAGCCCGGGCCGTGGATTCTACTCAACTTTGTCGGCTTGAGAAAGACCTGGGATCCTGGGTATTAAAAAGAAGATCTATTTATTTAGAGATCTGTTCTATTGTGATCTCTTATTAGGATCGCACTGCCCTGTGGATAACAAGGATCCGGCTTTTAAGATCAACAACCTGGAAAGGATCATTAACTGTGAATGATCGGTGATCCTGGACCGTATAAGCTGGGATCAGAATGAGGGGTTATACACAACTCAAAAACTGAACAACAGTTGTTCTTTGGATAACTACCGGTTGATCCAAGCTTCCTGACAGAGTTATCCACAGTAGATCGCACGATCTGTATACTTATTTGAGTAAATTAACCCACGATCCCAGCCATTCTTCTGCCGGATCTTCCGGAATGTCGTGATCAAGAATGTTGATCTTCAGT\n",
      "\n",
      "Found the following motifs:\n",
      "\t* CTGTTGATC [7 hits]\n",
      "\t* GATCAACAG [7 hits]\n"
     ]
    }
   ],
   "source": [
    "for min_skew_loc in minimum_skew_locations:\n",
    "    window = window_centered_around(min_skew_loc, window_length, genome)\n",
    "    number_of_top_hits, top_hits = most_frequent_kmers(window, k_mer_length, max_mismatches_allowed)\n",
    "    \n",
    "    print(f'Searched the following window centered around {min_skew_loc} bp:\\n\\n{window}\\n')\n",
    "    \n",
    "    if(number_of_top_hits > 0):\n",
    "        print(f'Found the following motifs:')\n",
    "        for hit in top_hits:\n",
    "            print(f'\\t* {hit} [{number_of_top_hits} hits]')\n",
    "    else:\n",
    "        print('Found nothing.')"
   ]
  },
  {
   "cell_type": "markdown",
   "metadata": {},
   "source": [
    "Indeed, if the sample genome was used, this is the origin of replication for _E. coli_ as shown [here](https://www.ncbi.nlm.nih.gov/projects/sviewer/?id=AC_000091.1&v=3710170..3711547&m=3710670,3711047). __Bolded__ are the DnaA boxes we found, although only three are directly in the 312 bp region formally defined as the oriC.\n",
    "<pre>\n",
    "    >gi|89106884|ref|AC_000091.1|:3710692-3711004 Escherichia coli str. K-12 substr. W3110, complete genome\n",
    "    TGTGGATAACTCTGTCAGGAAGCTTGGATCAACCGGTAGTTATCCAAAGAACAACTGTTGTTCAGTTTTT\n",
    "    TGTGGATAACTCTGTCAGGAAGCTTG<b>GATCAACCG</b>GTAGTTATCCAAAGAACAACTGTTGTTCAGTTTTT\n",
    "    GAGTTGTGTATAACCCCTCATTCTGATCCCAGCTTATACGGTCCAGGATCACCGATCATTCACAGTTAAT\n",
    "    GATCCTTTCCAGG<b>TTGTTGATC</b>TTAAAAGCCGGATCCTTGT<b>TATCCACAG</b>GGCAGTGCGATCCTAATAAG\n",
    "    AGATCACAATAGAACAGATCTCTAAATAAATAGATCTTCTTTTTAATACCCAGGATCCCAGGTCTTTCTC\n",
    "    AAGCCGACAAAGTTGAGTAGAATCCACGGCCCG\n",
    "</pre>"
   ]
  }
 ],
 "metadata": {
  "kernelspec": {
   "display_name": "Python [default]",
   "language": "python",
   "name": "python3"
  },
  "language_info": {
   "codemirror_mode": {
    "name": "ipython",
    "version": 3
   },
   "file_extension": ".py",
   "mimetype": "text/x-python",
   "name": "python",
   "nbconvert_exporter": "python",
   "pygments_lexer": "ipython3",
   "version": "3.6.3"
  }
 },
 "nbformat": 4,
 "nbformat_minor": 2
}
